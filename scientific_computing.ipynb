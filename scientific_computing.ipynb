{
 "cells": [
  {
   "cell_type": "markdown",
   "source": [
    "<a href=\"https://colab.research.google.com/github/OsipovOleg/crash-python-notebooks/blob/master/scientific_computation.ipynb\">\n",
    "  <img src=\"https://colab.research.google.com/assets/colab-badge.svg\" alt=\"Open In Colab\"/>\n",
    "</a>"
   ],
   "metadata": {
    "collapsed": false,
    "pycharm": {
     "name": "#%% md\n"
    }
   }
  },
  {
   "cell_type": "markdown",
   "source": [
    "## Numpy, Scipy"
   ],
   "metadata": {
    "collapsed": false,
    "pycharm": {
     "name": "#%% md\n"
    }
   }
  },
  {
   "cell_type": "code",
   "execution_count": 18,
   "outputs": [],
   "source": [
    "import matplotlib.pyplot as plt\n",
    "import numpy as np\n",
    "import pprint"
   ],
   "metadata": {
    "collapsed": false,
    "pycharm": {
     "name": "#%%\n"
    }
   }
  },
  {
   "cell_type": "code",
   "execution_count": 19,
   "outputs": [
    {
     "name": "stdout",
     "output_type": "stream",
     "text": [
      "[1 2 3]\n",
      "<class 'numpy.ndarray'>\n"
     ]
    }
   ],
   "source": [
    "x = np.array([1, 2, 3, 4])\n",
    "print(x)\n",
    "print(type(x))"
   ],
   "metadata": {
    "collapsed": false,
    "pycharm": {
     "name": "#%%\n"
    }
   }
  },
  {
   "cell_type": "code",
   "execution_count": 20,
   "outputs": [
    {
     "name": "stdout",
     "output_type": "stream",
     "text": [
      "[0.84147 0.9093  0.14112]\n"
     ]
    }
   ],
   "source": [
    "y = np.sin(x)\n",
    "print(y)\n"
   ],
   "metadata": {
    "collapsed": false,
    "pycharm": {
     "name": "#%%\n"
    }
   }
  },
  {
   "cell_type": "code",
   "execution_count": 21,
   "outputs": [
    {
     "name": "stdout",
     "output_type": "stream",
     "text": [
      "[ 0.       0.10101  0.20202  0.30303  0.40404  0.50505  0.60606  0.70707\n",
      "  0.80808  0.90909  1.0101   1.11111  1.21212  1.31313  1.41414  1.51515\n",
      "  1.61616  1.71717  1.81818  1.91919  2.0202   2.12121  2.22222  2.32323\n",
      "  2.42424  2.52525  2.62626  2.72727  2.82828  2.92929  3.0303   3.13131\n",
      "  3.23232  3.33333  3.43434  3.53535  3.63636  3.73737  3.83838  3.93939\n",
      "  4.0404   4.14141  4.24242  4.34343  4.44444  4.54545  4.64646  4.74747\n",
      "  4.84848  4.94949  5.05051  5.15152  5.25253  5.35354  5.45455  5.55556\n",
      "  5.65657  5.75758  5.85859  5.9596   6.06061  6.16162  6.26263  6.36364\n",
      "  6.46465  6.56566  6.66667  6.76768  6.86869  6.9697   7.07071  7.17172\n",
      "  7.27273  7.37374  7.47475  7.57576  7.67677  7.77778  7.87879  7.9798\n",
      "  8.08081  8.18182  8.28283  8.38384  8.48485  8.58586  8.68687  8.78788\n",
      "  8.88889  8.9899   9.09091  9.19192  9.29293  9.39394  9.49495  9.59596\n",
      "  9.69697  9.79798  9.89899 10.     ]\n"
     ]
    }
   ],
   "source": [
    "x = np.linspace(0, 10 , 100)\n",
    "print(x)\n",
    "y = np.sin(x)"
   ],
   "metadata": {
    "collapsed": false,
    "pycharm": {
     "name": "#%%\n"
    }
   }
  },
  {
   "cell_type": "code",
   "execution_count": 22,
   "outputs": [
    {
     "data": {
      "text/plain": "<Figure size 432x288 with 1 Axes>",
      "image/png": "[encoded data removed]"
     },
     "metadata": {
      "needs_background": "light"
     },
     "output_type": "display_data"
    }
   ],
   "source": [
    "plt.title(\"Sin func\")\n",
    "plt.xlabel(\"x label\")\n",
    "plt.ylabel(\"y label\")\n",
    "plt.plot(x, y);\n"
   ],
   "metadata": {
    "collapsed": false,
    "pycharm": {
     "name": "#%%\n"
    }
   }
  },
  {
   "cell_type": "code",
   "execution_count": 23,
   "outputs": [
    {
     "name": "stdout",
     "output_type": "stream",
     "text": [
      "[3 5 7]\n"
     ]
    }
   ],
   "source": [
    "x = np.array([1, 2, 3])\n",
    "y = np.array([2, 3, 4])\n",
    "print(x + y)"
   ],
   "metadata": {
    "collapsed": false,
    "pycharm": {
     "name": "#%%\n"
    }
   }
  },
  {
   "cell_type": "code",
   "execution_count": 24,
   "outputs": [
    {
     "name": "stdout",
     "output_type": "stream",
     "text": [
      "[[0. 0. 0. 0. 0. 0.]\n",
      " [0. 0. 0. 0. 0. 0.]\n",
      " [0. 0. 0. 0. 0. 0.]]\n"
     ]
    }
   ],
   "source": [
    "x = np.zeros((3, 6))\n",
    "print(x)"
   ],
   "metadata": {
    "collapsed": false,
    "pycharm": {
     "name": "#%%\n"
    }
   }
  },
  {
   "cell_type": "code",
   "execution_count": 8,
   "outputs": [
    {
     "name": "stdout",
     "output_type": "stream",
     "text": [
      "[[1. 0. 0. 0. 0.]\n",
      " [0. 1. 0. 0. 0.]\n",
      " [0. 0. 1. 0. 0.]\n",
      " [0. 0. 0. 1. 0.]\n",
      " [0. 0. 0. 0. 1.]]\n"
     ]
    },
    {
     "data": {
      "text/plain": "array([[3., 0., 0., 0., 0.],\n       [0., 3., 0., 0., 0.],\n       [0., 0., 3., 0., 0.],\n       [0., 0., 0., 3., 0.],\n       [0., 0., 0., 0., 3.]])"
     },
     "execution_count": 8,
     "metadata": {},
     "output_type": "execute_result"
    }
   ],
   "source": [
    "y = np.eye(5)\n",
    "print(y)\n",
    "np.multiply(y , 3)"
   ],
   "metadata": {
    "collapsed": false,
    "pycharm": {
     "name": "#%%\n"
    }
   }
  },
  {
   "cell_type": "code",
   "execution_count": 9,
   "outputs": [
    {
     "name": "stdout",
     "output_type": "stream",
     "text": [
      "[[-2.   1. ]\n",
      " [ 1.5 -0.5]]\n"
     ]
    }
   ],
   "source": [
    "from scipy import linalg\n",
    "a = np.array([[1, 2], [3, 4]])\n",
    "print(linalg.inv(a))"
   ],
   "metadata": {
    "collapsed": false,
    "pycharm": {
     "name": "#%%\n"
    }
   }
  },
  {
   "cell_type": "code",
   "execution_count": 10,
   "outputs": [
    {
     "data": {
      "text/plain": "array([[1.0000000e+00, 0.0000000e+00],\n       [8.8817842e-16, 1.0000000e+00]])"
     },
     "execution_count": 10,
     "metadata": {},
     "output_type": "execute_result"
    }
   ],
   "source": [
    "np.dot(a, linalg.inv(a))"
   ],
   "metadata": {
    "collapsed": false,
    "pycharm": {
     "name": "#%%\n"
    }
   }
  },
  {
   "cell_type": "markdown",
   "source": [
    "### Linear system"
   ],
   "metadata": {
    "collapsed": false
   }
  },
  {
   "cell_type": "code",
   "execution_count": 11,
   "outputs": [
    {
     "name": "stdout",
     "output_type": "stream",
     "text": [
      "[[1 2]\n",
      " [3 4]]\n",
      "##########\n",
      "[[5]\n",
      " [6]]\n"
     ]
    }
   ],
   "source": [
    "A = np.array([[1, 2], [3, 4]])\n",
    "print(A)\n",
    "print(\"#\"*10)\n",
    "b = np.array([[5], [6]])\n",
    "print(b)\n"
   ],
   "metadata": {
    "collapsed": false,
    "pycharm": {
     "name": "#%%\n"
    }
   }
  },
  {
   "cell_type": "code",
   "execution_count": 12,
   "outputs": [
    {
     "name": "stdout",
     "output_type": "stream",
     "text": [
      "[[-4. ]\n",
      " [ 4.5]]\n"
     ]
    }
   ],
   "source": [
    "x = linalg.solve(A, b)\n",
    "print(x)"
   ],
   "metadata": {
    "collapsed": false,
    "pycharm": {
     "name": "#%%\n"
    }
   }
  },
  {
   "cell_type": "code",
   "execution_count": 13,
   "outputs": [
    {
     "name": "stdout",
     "output_type": "stream",
     "text": [
      "[[5.]\n",
      " [6.]]\n"
     ]
    }
   ],
   "source": [
    "print(np.dot(A,x))"
   ],
   "metadata": {
    "collapsed": false,
    "pycharm": {
     "name": "#%%\n"
    }
   }
  },
  {
   "cell_type": "markdown",
   "source": [
    "## Markov Chains"
   ],
   "metadata": {
    "collapsed": false
   }
  },
  {
   "cell_type": "code",
   "execution_count": 14,
   "outputs": [],
   "source": [
    "np.set_printoptions(precision=5)\n",
    "P = np.array([[0.1, 0.2, 0.7],\n",
    "              [0.1, 0.5, 0.4],\n",
    "              [0.1, 0.7, 0.2]])"
   ],
   "metadata": {
    "collapsed": false,
    "pycharm": {
     "name": "#%%\n"
    }
   }
  },
  {
   "cell_type": "code",
   "execution_count": 15,
   "outputs": [
    {
     "name": "stdout",
     "output_type": "stream",
     "text": [
      "[[1. 0. 0.]\n",
      " [0. 1. 0.]\n",
      " [0. 0. 1.]]\n",
      "####################################################################################################\n",
      "[[0.1 0.2 0.7]\n",
      " [0.1 0.5 0.4]\n",
      " [0.1 0.7 0.2]]\n",
      "####################################################################################################\n",
      "[[0.1  0.61 0.29]\n",
      " [0.1  0.55 0.35]\n",
      " [0.1  0.51 0.39]]\n",
      "####################################################################################################\n",
      "[[0.1   0.528 0.372]\n",
      " [0.1   0.54  0.36 ]\n",
      " [0.1   0.548 0.352]]\n",
      "####################################################################################################\n",
      "[[0.1    0.5444 0.3556]\n",
      " [0.1    0.542  0.358 ]\n",
      " [0.1    0.5404 0.3596]]\n",
      "####################################################################################################\n",
      "[[0.1     0.54112 0.35888]\n",
      " [0.1     0.5416  0.3584 ]\n",
      " [0.1     0.54192 0.35808]]\n",
      "####################################################################################################\n",
      "[[0.1     0.54178 0.35822]\n",
      " [0.1     0.54168 0.35832]\n",
      " [0.1     0.54162 0.35838]]\n",
      "####################################################################################################\n",
      "[[0.1     0.54164 0.35836]\n",
      " [0.1     0.54166 0.35834]\n",
      " [0.1     0.54168 0.35832]]\n",
      "####################################################################################################\n",
      "[[0.1     0.54167 0.35833]\n",
      " [0.1     0.54167 0.35833]\n",
      " [0.1     0.54166 0.35834]]\n",
      "####################################################################################################\n",
      "[[0.1     0.54167 0.35833]\n",
      " [0.1     0.54167 0.35833]\n",
      " [0.1     0.54167 0.35833]]\n",
      "####################################################################################################\n",
      "[[0.1     0.54167 0.35833]\n",
      " [0.1     0.54167 0.35833]\n",
      " [0.1     0.54167 0.35833]]\n",
      "####################################################################################################\n",
      "[[0.1     0.54167 0.35833]\n",
      " [0.1     0.54167 0.35833]\n",
      " [0.1     0.54167 0.35833]]\n",
      "####################################################################################################\n",
      "[[0.1     0.54167 0.35833]\n",
      " [0.1     0.54167 0.35833]\n",
      " [0.1     0.54167 0.35833]]\n",
      "####################################################################################################\n",
      "[[0.1     0.54167 0.35833]\n",
      " [0.1     0.54167 0.35833]\n",
      " [0.1     0.54167 0.35833]]\n",
      "####################################################################################################\n",
      "[[0.1     0.54167 0.35833]\n",
      " [0.1     0.54167 0.35833]\n",
      " [0.1     0.54167 0.35833]]\n",
      "####################################################################################################\n",
      "[[0.1     0.54167 0.35833]\n",
      " [0.1     0.54167 0.35833]\n",
      " [0.1     0.54167 0.35833]]\n",
      "####################################################################################################\n",
      "[[0.1     0.54167 0.35833]\n",
      " [0.1     0.54167 0.35833]\n",
      " [0.1     0.54167 0.35833]]\n",
      "####################################################################################################\n",
      "[[0.1     0.54167 0.35833]\n",
      " [0.1     0.54167 0.35833]\n",
      " [0.1     0.54167 0.35833]]\n",
      "####################################################################################################\n",
      "[[0.1     0.54167 0.35833]\n",
      " [0.1     0.54167 0.35833]\n",
      " [0.1     0.54167 0.35833]]\n",
      "####################################################################################################\n",
      "[[0.1     0.54167 0.35833]\n",
      " [0.1     0.54167 0.35833]\n",
      " [0.1     0.54167 0.35833]]\n",
      "####################################################################################################\n"
     ]
    }
   ],
   "source": [
    "for i in range(0, 20):\n",
    "    print(np.linalg.matrix_power(P, i))\n",
    "    print(\"#\"*100)"
   ],
   "metadata": {
    "collapsed": false,
    "pycharm": {
     "name": "#%%\n"
    }
   }
  },
  {
   "cell_type": "code",
   "execution_count": null,
   "outputs": [],
   "source": [],
   "metadata": {
    "collapsed": false,
    "pycharm": {
     "name": "#%%\n"
    }
   }
  },
  {
   "cell_type": "code",
   "execution_count": null,
   "outputs": [],
   "source": [],
   "metadata": {
    "collapsed": false,
    "pycharm": {
     "name": "#%%\n"
    }
   }
  },
  {
   "cell_type": "code",
   "execution_count": null,
   "outputs": [],
   "source": [],
   "metadata": {
    "collapsed": false,
    "pycharm": {
     "name": "#%%\n"
    }
   }
  }
 ],
 "metadata": {
  "kernelspec": {
   "display_name": "Python 3",
   "language": "python",
   "name": "python3"
  },
  "language_info": {
   "codemirror_mode": {
    "name": "ipython",
    "version": 2
   },
   "file_extension": ".py",
   "mimetype": "text/x-python",
   "name": "python",
   "nbconvert_exporter": "python",
   "pygments_lexer": "ipython2",
   "version": "2.7.6"
  }
 },
 "nbformat": 4,
 "nbformat_minor": 0
}